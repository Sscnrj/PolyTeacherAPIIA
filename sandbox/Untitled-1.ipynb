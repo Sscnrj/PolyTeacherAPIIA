{
 "cells": [
  {
   "cell_type": "code",
   "execution_count": null,
   "metadata": {},
   "outputs": [],
   "source": [
    "# https://ai.google.dev/gemini-api/docs/quickstart?lang=python\n",
    "\n",
    "import google.generativeai as genai\n",
    "import os\n",
    "\n",
    "api_key = \"\"\n",
    "\n",
    "prompt = \"\"\"\n",
    "Traduis \"J'ai un chien\" en anglais. La réponse ne doit contenir que la traduction\n",
    "\"\"\"\n",
    "\n",
    "genai.configure(api_key=os.environ[\"GOOGLE_API_KEY\"])\n",
    "\n",
    "model = genai.GenerativeModel(\"gemini-1.5-flash\")\n",
    "response = model.generate_content(prompt)\n",
    "print(response.text)"
   ]
  }
 ],
 "metadata": {
  "language_info": {
   "name": "python"
  }
 },
 "nbformat": 4,
 "nbformat_minor": 2
}
